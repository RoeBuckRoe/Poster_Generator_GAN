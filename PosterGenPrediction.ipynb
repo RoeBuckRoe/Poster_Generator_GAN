{
  "nbformat": 4,
  "nbformat_minor": 0,
  "metadata": {
    "accelerator": "GPU",
    "colab": {
      "name": "PosterGenPrediction.ipynb",
      "provenance": [],
      "collapsed_sections": []
    },
    "kernelspec": {
      "display_name": "Python 3",
      "name": "python3"
    }
  },
  "cells": [
    {
      "cell_type": "code",
      "metadata": {
        "id": "bt7YNTQNtZT2"
      },
      "source": [
        "from google.colab import files\r\n",
        "uploaded = files.upload()"
      ],
      "execution_count": null,
      "outputs": []
    },
    {
      "cell_type": "code",
      "metadata": {
        "colab": {
          "background_save": true
        },
        "id": "Cum_tdBl2trG"
      },
      "source": [
        "from numpy.random import randn\r\n",
        "from keras.models import load_model\r\n",
        "from matplotlib import pyplot\r\n",
        "\r\n",
        "# generate points in latent space as input for the generator\r\n",
        "def generate_latent_points(latent_dim, n_samples):\r\n",
        "    # generate points in the latent space\r\n",
        "    x_input = randn(latent_dim * n_samples)\r\n",
        "    # reshape into a batch of inputs for the network\r\n",
        "    z_input = x_input.reshape(n_samples, latent_dim)\r\n",
        "    return z_input\r\n",
        "\r\n",
        "# create a plot of generated images\r\n",
        "def plot_generated(examples, n):\r\n",
        "    # plot images\r\n",
        "    for i in range(n * n):\r\n",
        "        # define subplot\r\n",
        "        pyplot.subplot(n, n, 1 + i)\r\n",
        "        # turn off axis\r\n",
        "        pyplot.axis('off')\r\n",
        "        # plot raw pixel data\r\n",
        "        pyplot.imshow(examples[i, :, :])\r\n",
        "        pyplot.show()\r\n",
        "        \r\n",
        "model = load_model('/content/generator_model_1700.h5')\r\n",
        "# generate images\r\n",
        "latent_points = generate_latent_points(128, 160)\r\n",
        "# generate images\r\n",
        "X = model.predict(latent_points)\r\n",
        "# scale from [-1,1] to [0,1]\r\n",
        "X = (X + 1) / 2.0\r\n",
        "# plot the result\r\n",
        "Y = (X+ 1) / 2.0\r\n",
        "for image in Y:\r\n",
        "  pyplot.imshow(image)\r\n",
        "  pyplot.show()\r\n",
        "\r\n"
      ],
      "execution_count": null,
      "outputs": []
    }
  ]
}