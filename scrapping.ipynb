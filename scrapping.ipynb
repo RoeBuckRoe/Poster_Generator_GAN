{
  "nbformat": 4,
  "nbformat_minor": 0,
  "metadata": {
    "colab": {
      "name": "scrapping.ipynb",
      "provenance": [],
      "collapsed_sections": []
    },
    "kernelspec": {
      "name": "python3",
      "display_name": "Python 3"
    }
  },
  "cells": [
    {
      "cell_type": "code",
      "metadata": {
        "id": "iCWOvrS9pVTp"
      },
      "source": [
        "!pip install wget"
      ],
      "execution_count": null,
      "outputs": []
    },
    {
      "cell_type": "code",
      "metadata": {
        "id": "a6ma_9S7u4wf"
      },
      "source": [
        "from urllib.request import urlopen\r\n",
        "from bs4 import BeautifulSoup\r\n",
        "import re\r\n",
        "import requests\r\n",
        "import wget\r\n",
        "from PIL import Image  \r\n",
        "import PIL  \r\n",
        "import cv2 \r\n",
        "import os"
      ],
      "execution_count": null,
      "outputs": []
    },
    {
      "cell_type": "code",
      "metadata": {
        "id": "6EeRC7LouKFO"
      },
      "source": [
        "choice = input(\" ENTER URL OF YOUR CHOICE :\")#http://libgen.lc/comics/index.php?s=batman\r\n",
        "r = requests.get(choice)\r\n",
        "r.status_code"
      ],
      "execution_count": null,
      "outputs": []
    },
    {
      "cell_type": "code",
      "metadata": {
        "id": "UBjI3hZ0lPAK"
      },
      "source": [
        "file_path = '/content/images'\r\n",
        "pages = list(range(40))\r\n",
        "j=0\r\n",
        "for i in pages :\r\n",
        "  web_url = choice\r\n",
        "  page = web_url + '&page=' + str(i)\r\n",
        "  html = urlopen(page)\r\n",
        "  bs = BeautifulSoup(html, 'html.parser')\r\n",
        "  images = bs.find_all('img', {'src':re.compile('.jpg')})\r\n",
        "  for image in images:\r\n",
        "      j=j+1\r\n",
        "      print(j)\r\n",
        "      image_url= image['src']\r\n",
        "      new_url = image_url[:image_url.rfind(\"_\")]\r\n",
        "      string='http://libgen.lc' + new_url\r\n",
        "      url = string + '.jpg'\r\n",
        "      print(\"*****************************************************************\")\r\n",
        "      print(url)\r\n",
        "      print(\"*****************************************************************\")\r\n",
        "      print('\\n')\r\n",
        "      wget.download(url,'/content/images/')\r\n",
        "      \r\n",
        "\r\n",
        "  i=i+1\r\n",
        "print(\"No. of Pages gone through : \", (i))\r\n",
        "print(\"No. of Images saved : \",j)"
      ],
      "execution_count": null,
      "outputs": []
    },
    {
      "cell_type": "code",
      "metadata": {
        "id": "F6Sx6QnBPOCC"
      },
      "source": [
        "choice = input(\" ENTER URL OF YOUR CHOICE :\") #http://www.coverbrowser.com/covers/batman/\r\n",
        "r = requests.get(choice)\r\n",
        "r.status_code"
      ],
      "execution_count": null,
      "outputs": []
    },
    {
      "cell_type": "code",
      "metadata": {
        "id": "Cp7rCvARPFXU"
      },
      "source": [
        "file_path = '/content/New_images'\r\n",
        "pages = list(range(14))\r\n",
        "j=0\r\n",
        "for i in pages :\r\n",
        "  web_url = choice\r\n",
        "  page = web_url + str(i)\r\n",
        "  html = urlopen(page)\r\n",
        "  bs = BeautifulSoup(html, 'html.parser')\r\n",
        "  images = bs.find_all('img', {'src':re.compile('.jpg')})\r\n",
        "  for image in images:\r\n",
        "      j=j+1\r\n",
        "      print(j)\r\n",
        "      image_url= image['src']\r\n",
        "      #print(image_url)\r\n",
        "      string2='http://www.coverbrowser.com' + image_url\r\n",
        "      print(\"*****************************************************************\")\r\n",
        "      print(string2)            \r\n",
        "      print(\"*****************************************************************\")\r\n",
        "      print('\\n')\r\n",
        "      wget.download(string2,'/content/images/')\r\n",
        "      \r\n",
        "\r\n",
        "  i=i+1\r\n",
        "print(\"No. of Pages gone through : \", (i))\r\n",
        "print(\"No. of Images saved : \",j)"
      ],
      "execution_count": null,
      "outputs": []
    },
    {
      "cell_type": "code",
      "metadata": {
        "id": "hB4JGW-L1bS0"
      },
      "source": [
        "import zipfile\r\n",
        "\r\n",
        "TARGET_DIRECTORY = '/content/images'\r\n",
        "ZIPFILE_NAME = \"Batman.zip\"\r\n",
        "\r\n",
        "def zip_dir(directory, zipname):\r\n",
        "    \"\"\"\r\n",
        "    Compress a directory (ZIP file).\r\n",
        "    \"\"\"\r\n",
        "    if os.path.exists(directory):\r\n",
        "        outZipFile = zipfile.ZipFile(zipname, 'w', zipfile.ZIP_DEFLATED)\r\n",
        "\r\n",
        "        for dirpath, dirnames, filenames in os.walk(directory):\r\n",
        "            for filename in filenames:\r\n",
        "\r\n",
        "                filepath   = os.path.join(dirpath, filename)\r\n",
        "                outZipFile.write(filepath)\r\n",
        "\r\n",
        "        outZipFile.close()\r\n",
        "\r\n",
        "zip_dir(TARGET_DIRECTORY, ZIPFILE_NAME)\r\n",
        "\r\n",
        "\r\n"
      ],
      "execution_count": null,
      "outputs": []
    }
  ]
}