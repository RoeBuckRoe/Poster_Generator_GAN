{
  "nbformat": 4,
  "nbformat_minor": 0,
  "metadata": {
    "colab": {
      "name": "postergenerator.ipynb",
      "provenance": [],
      "collapsed_sections": []
    },
    "kernelspec": {
      "name": "python3",
      "display_name": "Python 3"
    },
    "accelerator": "GPU"
  },
  "cells": [
    {
      "cell_type": "code",
      "metadata": {
        "id": "WYJ51CnM4s4a"
      },
      "source": [
        "from google.colab import files\r\n",
        "\r\n",
        "uploaded = files.upload()"
      ],
      "execution_count": null,
      "outputs": []
    },
    {
      "cell_type": "code",
      "metadata": {
        "id": "cT5bcOj9F0zf"
      },
      "source": [
        "!unzip -q BatmanCovers.zip\r\n",
        "!ls "
      ],
      "execution_count": null,
      "outputs": []
    },
    {
      "cell_type": "code",
      "metadata": {
        "id": "ZKoh5NXMysyI"
      },
      "source": [
        "from os import listdir\r\n",
        "from numpy import asarray\r\n",
        "from numpy import vstack\r\n",
        "from keras.preprocessing.image import img_to_array\r\n",
        "from keras.preprocessing.image import load_img\r\n",
        "from numpy import savez_compressed\r\n",
        " \r\n",
        "# load all images in a directory into memory\r\n",
        "def load_images(path, size=(160,160,3)):\r\n",
        "\timg_list = list()\r\n",
        "\t# enumerate filenames in directory, assume all are images\r\n",
        "\tfor filename in listdir(path):\r\n",
        "\t\t# load and resize the image\r\n",
        "\t\tpixels = load_img(path + filename, target_size=size)\r\n",
        "\t\t# convert to numpy array\r\n",
        "\t\tpixels = img_to_array(pixels)\r\n",
        "\t\t# split into satellite and map\r\n",
        "\t\timg= pixels\r\n",
        "\t\timg_list.append(img)\r\n",
        "\treturn [asarray(img_list)]\r\n",
        " \r\n",
        "# dataset path\r\n",
        "path = '/content/images/'\r\n",
        "# load dataset\r\n",
        "[src_images] = load_images(path)\r\n",
        "print('Loaded: ', src_images.shape)\r\n",
        "# save as compressed numpy array\r\n",
        "filename = 'Batman_256.npz'\r\n",
        "savez_compressed(filename, src_images)\r\n",
        "print('Saved dataset: ', filename)"
      ],
      "execution_count": null,
      "outputs": []
    },
    {
      "cell_type": "code",
      "metadata": {
        "id": "IUC9aQBqRcBQ"
      },
      "source": [
        "from numpy import load\r\n",
        "from numpy import zeros\r\n",
        "from numpy import ones\r\n",
        "from numpy.random import randn\r\n",
        "from numpy.random import randint\r\n",
        "from keras.optimizers import Adam\r\n",
        "from keras.models import Sequential\r\n",
        "from keras.layers import Dense\r\n",
        "from keras.layers import Reshape\r\n",
        "from keras.layers import Flatten\r\n",
        "from keras.layers import Conv2D\r\n",
        "from keras.layers import Conv2DTranspose\r\n",
        "from keras.layers import LeakyReLU\r\n",
        "from keras.layers import Dropout\r\n",
        "from matplotlib import pyplot"
      ],
      "execution_count": null,
      "outputs": []
    },
    {
      "cell_type": "code",
      "metadata": {
        "id": "KKqE0ZFptyAC"
      },
      "source": [
        "def define_discriminator(in_shape=(160,160,3)):\r\n",
        "    model = Sequential()\r\n",
        "    # normal\r\n",
        "    model.add(Conv2D(128, (5,5), padding='same', input_shape=in_shape))\r\n",
        "    model.add(LeakyReLU(alpha=0.2))\r\n",
        "    # downsample to 128x128\r\n",
        "    model.add(Conv2D(128, (5,5), strides=(2,2), padding='same'))\r\n",
        "    model.add(LeakyReLU(alpha=0.2))\r\n",
        "    # downsample to 64x64\r\n",
        "    model.add(Conv2D(128, (5,5), strides=(2,2), padding='same'))\r\n",
        "    model.add(LeakyReLU(alpha=0.2))\r\n",
        "    # downsample to 32x32\r\n",
        "    model.add(Conv2D(128, (5,5), strides=(2,2), padding='same'))\r\n",
        "    model.add(LeakyReLU(alpha=0.2))\r\n",
        "    # downsample to 16x16\r\n",
        "    model.add(Conv2D(128, (5,5), strides=(2,2), padding='same'))\r\n",
        "    model.add(LeakyReLU(alpha=0.2))\r\n",
        "    # classifier\r\n",
        "    model.add(Flatten())\r\n",
        "    model.add(Dropout(0.4))\r\n",
        "    model.add(Dense(1, activation='sigmoid'))\r\n",
        "    # compile model\r\n",
        "    opt = Adam(lr=0.0002, beta_1=0.5)\r\n",
        "    model.compile(loss='binary_crossentropy', optimizer=opt, metrics=['accuracy'])\r\n",
        "    return model\r\n",
        "\r\n",
        "model = define_discriminator()\r\n",
        "model.summary()"
      ],
      "execution_count": null,
      "outputs": []
    },
    {
      "cell_type": "code",
      "metadata": {
        "id": "n7DdovpLuVjn"
      },
      "source": [
        "def define_generator(latent_dim):\r\n",
        "    model = Sequential()\r\n",
        "    # foundation for 5x5 feature maps\r\n",
        "    n_nodes = 128 * 10 * 10\r\n",
        "    model.add(Dense(n_nodes, input_dim=latent_dim))\r\n",
        "    model.add(LeakyReLU(alpha=0.2))\r\n",
        "    model.add(Reshape((10, 10, 128)))\r\n",
        "    # upsample to 32x32\r\n",
        "    model.add(Conv2DTranspose(128, (4,4), strides=(2,2), padding='same'))\r\n",
        "    model.add(LeakyReLU(alpha=0.2))\r\n",
        "    # upsample to 64x64\r\n",
        "    model.add(Conv2DTranspose(128, (4,4), strides=(2,2), padding='same'))\r\n",
        "    model.add(LeakyReLU(alpha=0.2))\r\n",
        "    # upsample to 128x128\r\n",
        "    model.add(Conv2DTranspose(128, (4,4), strides=(2,2), padding='same'))\r\n",
        "    model.add(LeakyReLU(alpha=0.2))\r\n",
        "    # upsample to 256x256\r\n",
        "    model.add(Conv2DTranspose(128, (4,4), strides=(2,2), padding='same'))\r\n",
        "    model.add(LeakyReLU(alpha=0.2))\r\n",
        "    # output layer 256x256x3\r\n",
        "    model.add(Conv2D(3, (5,5), activation='tanh', padding='same'))\r\n",
        "    return model\r\n",
        "\r\n",
        "model = define_generator(128)\r\n",
        "model.summary()"
      ],
      "execution_count": null,
      "outputs": []
    },
    {
      "cell_type": "code",
      "metadata": {
        "id": "ap2LwpXJ4Wj3"
      },
      "source": [
        "def define_gan(g_model, d_model):\r\n",
        "# make weights in the discriminator not trainable\r\n",
        "  d_model.trainable = False\r\n",
        "  # connect them\r\n",
        "  model = Sequential()\r\n",
        "  # add generator\r\n",
        "  model.add(g_model)\r\n",
        "  # add the discriminator\r\n",
        "  model.add(d_model)\r\n",
        "  # compile model\r\n",
        "  opt = Adam(lr=0.0002, beta_1=0.5)\r\n",
        "  model.compile(loss='binary_crossentropy', optimizer=opt)\r\n",
        "  return model\r\n"
      ],
      "execution_count": null,
      "outputs": []
    },
    {
      "cell_type": "code",
      "metadata": {
        "id": "zH-cVEIskHXE"
      },
      "source": [
        "def load_real_samples():\r\n",
        "# load the face dataset\r\n",
        "    data = load('/content/Batman_256.npz')\r\n",
        "    X = data['arr_0']\r\n",
        "    # convert from unsigned ints to floats\r\n",
        "    X = X.astype('float32')\r\n",
        "    # scale from [0,255] to [-1,1]\r\n",
        "    X = (X - 127.5) / 127.5\r\n",
        "    return X"
      ],
      "execution_count": null,
      "outputs": []
    },
    {
      "cell_type": "code",
      "metadata": {
        "id": "uP1K2DhKkYw3"
      },
      "source": [
        "def generate_real_samples(dataset, n_samples):\r\n",
        "    # choose random instances\r\n",
        "    ix = randint(0, dataset.shape[0], n_samples)\r\n",
        "    # retrieve selected images\r\n",
        "    X = dataset[ix]\r\n",
        "    # generate 'real' class labels (1)\r\n",
        "    y = ones((n_samples, 1))\r\n",
        "    return X, y"
      ],
      "execution_count": null,
      "outputs": []
    },
    {
      "cell_type": "code",
      "metadata": {
        "id": "txTiY_x2kfzH"
      },
      "source": [
        "def generate_latent_points(latent_dim, n_samples):\r\n",
        "    # generate points in the latent space\r\n",
        "    x_input = randn(latent_dim * n_samples)\r\n",
        "    # reshape into a batch of inputs for the network\r\n",
        "    x_input = x_input.reshape(n_samples, latent_dim)\r\n",
        "    return x_input\r\n"
      ],
      "execution_count": null,
      "outputs": []
    },
    {
      "cell_type": "code",
      "metadata": {
        "id": "Ssl6Aqj3kmoo"
      },
      "source": [
        "def generate_fake_samples(g_model, latent_dim, n_samples):\r\n",
        "    # generate points in latent space\r\n",
        "    x_input = generate_latent_points(latent_dim, n_samples)\r\n",
        "    # predict outputs\r\n",
        "    X = g_model.predict(x_input)\r\n",
        "    # create 'fake' class labels (0)\r\n",
        "    y = zeros((n_samples, 1))\r\n",
        "    return X, y"
      ],
      "execution_count": null,
      "outputs": []
    },
    {
      "cell_type": "code",
      "metadata": {
        "id": "rj-tP2FTkv2E"
      },
      "source": [
        "def save_plot(examples, epoch, n=10):\r\n",
        "    # scale from [-1,1] to [0,1]\r\n",
        "    examples = (examples + 1) / 2.0\r\n",
        "    # plot images\r\n",
        "    for i in range(n * n):\r\n",
        "        # define subplot\r\n",
        "        pyplot.subplot(n, n, 1 + i)\r\n",
        "        # turn off axis\r\n",
        "        pyplot.axis('off')\r\n",
        "        # plot raw pixel data\r\n",
        "        pyplot.imshow(examples[i])\r\n",
        "    # save plot to file\r\n",
        "    filename = 'generated_plot_e%03d.png' % (epoch+1)\r\n",
        "    pyplot.savefig(filename)\r\n",
        "    pyplot.close()"
      ],
      "execution_count": null,
      "outputs": []
    },
    {
      "cell_type": "code",
      "metadata": {
        "id": "P358LctzlBp7"
      },
      "source": [
        "def summarize_performance(epoch, g_model, d_model, dataset, latent_dim, n_samples=100):\r\n",
        "    # prepare real samples\r\n",
        "    X_real, y_real = generate_real_samples(dataset, n_samples)\r\n",
        "    # evaluate discriminator on real examples\r\n",
        "    _, acc_real = d_model.evaluate(X_real, y_real, verbose=0)\r\n",
        "    # prepare fake examples\r\n",
        "    x_fake, y_fake = generate_fake_samples(g_model, latent_dim, n_samples)\r\n",
        "    # evaluate discriminator on fake examples\r\n",
        "    _, acc_fake = d_model.evaluate(x_fake, y_fake, verbose=0)\r\n",
        "    # summarize discriminator performance\r\n",
        "    print('>Accuracy real: %.0f%%, fake: %.0f%%' % (acc_real*100, acc_fake*100))\r\n",
        "    # save plot\r\n",
        "    save_plot(x_fake, epoch)\r\n",
        "    # save the generator model tile file\r\n",
        "    filename = 'generator_model_%03d.h5' % (epoch+1)\r\n",
        "    g_model.save(filename)"
      ],
      "execution_count": null,
      "outputs": []
    },
    {
      "cell_type": "code",
      "metadata": {
        "id": "i0h8mj4GlV70"
      },
      "source": [
        "def train(g_model, d_model, gan_model, dataset, latent_dim, n_epochs=1000000, n_batch=128):\r\n",
        "    bat_per_epo = int(dataset.shape[0] / n_batch)\r\n",
        "    half_batch = int(n_batch / 2)\r\n",
        "    # manually enumerate epochs\r\n",
        "    for i in range(n_epochs):\r\n",
        "        # enumerate batches over the training set\r\n",
        "        for j in range(bat_per_epo):\r\n",
        "            # get randomly selected 'real' samples\r\n",
        "            X_real, y_real = generate_real_samples(dataset, half_batch)\r\n",
        "            # update discriminator model weights\r\n",
        "            d_loss1, _ = d_model.train_on_batch(X_real, y_real)\r\n",
        "            # generate 'fake' examples\r\n",
        "            X_fake, y_fake = generate_fake_samples(g_model, latent_dim, half_batch)\r\n",
        "            # update discriminator model weights\r\n",
        "            d_loss2, _ = d_model.train_on_batch(X_fake, y_fake)\r\n",
        "            # prepare points in latent space as input for the generator\r\n",
        "            X_gan = generate_latent_points(latent_dim, n_batch)\r\n",
        "            # create inverted labels for the fake samples\r\n",
        "            y_gan = ones((n_batch, 1))\r\n",
        "            # update the generator via the discriminator's error\r\n",
        "            g_loss = gan_model.train_on_batch(X_gan, y_gan)\r\n",
        "            # summarize loss on this batch\r\n",
        "            print('>%d, %d/%d, d1=%.3f, d2=%.3f g=%.3f' %\r\n",
        "              (i+1, j+1, bat_per_epo, d_loss1, d_loss2, g_loss))\r\n",
        "        # evaluate the model performance, sometimes\r\n",
        "        if (i+1) % 100 == 0:\r\n",
        "          summarize_performance(i, g_model, d_model, dataset, latent_dim)"
      ],
      "execution_count": null,
      "outputs": []
    },
    {
      "cell_type": "code",
      "metadata": {
        "id": "r1IjFPG9mBIN"
      },
      "source": [
        "\r\n",
        "# size of the latent space\r\n",
        "latent_dim = 128\r\n",
        "# create the discriminator\r\n",
        "d_model = define_discriminator()\r\n",
        "print(\"dicriminator\")\r\n",
        "# create the generator\r\n",
        "g_model = define_generator(latent_dim)\r\n",
        "print(\"generator\")\r\n",
        "# create the gan\r\n",
        "gan_model = define_gan(g_model, d_model)\r\n",
        "print(\"gan_model\")\r\n",
        "# load image data\r\n",
        "dataset = load_real_samples()\r\n",
        "print(\"load_real_samples\")\r\n",
        "# train model\r\n",
        "train(g_model, d_model, gan_model, dataset, latent_dim)"
      ],
      "execution_count": null,
      "outputs": []
    }
  ]
}